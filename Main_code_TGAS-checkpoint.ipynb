{
 "cells": [
  {
   "cell_type": "markdown",
   "id": "5ddf4964-34f1-4fcb-a59d-6fd8a86634e6",
   "metadata": {},
   "source": [
    "# Step 1: Importing the libraries\n",
    "\n",
    "#### For data analysis and data manipulation:\n",
    "\n",
    "- Numpy: used for numerical computing and operating on large multi-dimensional arrays and matrices\n",
    "- Pandas: used for data manipulation and analysis of structured data\n",
    "- Matplotlib: used for creating static, interactive, and animated visualizations\n",
    "- Seaborn: based on Matplotlib, provides higher-level interface for creating statistical graphics\n",
    "\n",
    "#### For dealing with files:\n",
    "\n",
    "- OS: provides a way of using operating system-dependent functionality like reading or writing to the file system\n",
    "- shutil: provides a way of operating with high-level file operations, such as copying, moving, and deleting files and directories\n",
    "- glob: provides a way of finding all the pathnames matching a specified pattern according to the rules used by the Unix shell\n",
    "- tqdm: used for adding progress bars to Python loops.\n",
    "\n",
    "#### For neural network training:\n",
    "\n",
    "- TensorFlow: an open-source software library for building and training machine learning models, including deep neural networks\n",
    "- cv2: used for image processing and computer vision tasks\n",
    "- Keras: high-level neural networks API, used for building and training neural networks in a very user-friendly way\n",
    "- InceptionV3: pre-trained neural network model that was trained on the ImageNet dataset\n",
    "- ImageDataGenerator: used for generating batches of image data with real-time data augmentation\n",
    "\n",
    "#### For deployment and live feedback of model:\n",
    "\n",
    "- pickle: used for serializing and deserializing Python objects\n",
    "- histograms: a custom module that provides functions for computing histograms of images\n",
    "- pygame: used for creating games and multimedia applications, provides a way of playing sounds and music in Python\n",
    "- MTCNN: pre-trained neural network model that can be used for detecting faces in images"
   ]
  },
  {
   "cell_type": "code",
   "execution_count": null,
   "id": "759b3b04-7097-43e5-99e4-7e4435cf765a",
   "metadata": {},
   "outputs": [],
   "source": [
    "# For data analysis and data manipulation\n",
    "import numpy as np\n",
    "import pandas as pd\n",
    "import matplotlib.pyplot as plt\n",
    "import seaborn as sns\n",
    "\n",
    "# For dealing with files\n",
    "import os\n",
    "import shutil\n",
    "import glob\n",
    "from tqdm import tqdm\n",
    "\n",
    "# For the neural network training\n",
    "import tensorflow as tf\n",
    "import cv2\n",
    "from tensorflow.keras.models import load_model\n",
    "from tensorflow.keras.applications import InceptionV3\n",
    "from tensorflow.keras.models import Model\n",
    "from tensorflow.keras.layers import Dropout,Input,Flatten,Dense,MaxPooling2D\n",
    "from tensorflow.keras.preprocessing.image import ImageDataGenerator  \n",
    "\n",
    "# For deployment and live feedback of model\n",
    "import pickle\n",
    "from histograms import histograms\n",
    "from pygame import mixer\n",
    "from mtcnn import MTCNN"
   ]
  }
 ],
 "metadata": {
  "kernelspec": {
   "display_name": "Python 3 (ipykernel)",
   "language": "python",
   "name": "python3"
  },
  "language_info": {
   "codemirror_mode": {
    "name": "ipython",
    "version": 3
   },
   "file_extension": ".py",
   "mimetype": "text/x-python",
   "name": "python",
   "nbconvert_exporter": "python",
   "pygments_lexer": "ipython3",
   "version": "3.10.9"
  }
 },
 "nbformat": 4,
 "nbformat_minor": 5
}
